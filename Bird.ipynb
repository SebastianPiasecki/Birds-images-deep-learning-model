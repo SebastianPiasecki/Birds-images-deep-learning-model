{
 "cells": [
  {
   "cell_type": "code",
   "execution_count": 1,
   "metadata": {},
   "outputs": [],
   "source": [
    "import glob2\n",
    "import cv2\n",
    "import os\n",
    "import numpy as np\n",
    "import matplotlib.pyplot as plt"
   ]
  },
  {
   "cell_type": "code",
   "execution_count": 2,
   "metadata": {},
   "outputs": [],
   "source": [
    "files = glob2.glob(\"train/*\")\n",
    "species = []\n",
    "for f in files:\n",
    "    species.append(f[6:]) # birds species list"
   ]
  },
  {
   "cell_type": "markdown",
   "metadata": {},
   "source": [
    "Definition to create array of bird species catalogues"
   ]
  },
  {
   "cell_type": "code",
   "execution_count": 3,
   "metadata": {},
   "outputs": [],
   "source": [
    "def get_species_dataset(directory, species_count = None, img_count = None):\n",
    "                                # reduced number of species and images per specie\n",
    "    target = []\n",
    "\n",
    "    zero = glob2.glob(os.path.join(directory, species[0])+\"/*\")[0]\n",
    "    zero_img = cv2.cvtColor(cv2.imread(zero),cv2.COLOR_BGR2RGB).reshape(1,224,224,3)\n",
    "\n",
    "    for specie in species[:species_count]:\n",
    "        specie_id = species.index(specie)\n",
    "        specie_imgs = glob2.glob(os.path.join(directory, specie)+\"/*\")\n",
    "\n",
    "        if not img_count:\n",
    "            img_count = len(specie_imgs)\n",
    "            \n",
    "        for img in specie_imgs[:img_count]:\n",
    "            tmp_img = cv2.cvtColor(cv2.imread(img),cv2.COLOR_BGR2RGB).reshape(1,224,224,3)\n",
    "            \n",
    "            if specie == species[0] and img == specie_imgs[0]:\n",
    "                dataset = zero_img\n",
    "                \n",
    "            else:\n",
    "                dataset = np.concatenate((dataset, tmp_img ), axis=0)\n",
    "\n",
    "            target.append(specie_id)\n",
    "            \n",
    "    target_arr = np.array(target).reshape(-1,1)\n",
    "\n",
    "    print(\"            dataset shape:\", dataset.shape)\n",
    "    print(\"             target shape:\", target_arr.shape)\n",
    "    print(\"target classes and counts:\", dict((i, target.count(i)) for i in target))\n",
    "\n",
    "    return dataset, target_arr"
   ]
  },
  {
   "cell_type": "markdown",
   "metadata": {},
   "source": [
    "Dataset for DL training"
   ]
  },
  {
   "cell_type": "code",
   "execution_count": 4,
   "metadata": {},
   "outputs": [],
   "source": [
    "num_class = 10\n"
   ]
  },
  {
   "cell_type": "code",
   "execution_count": 5,
   "metadata": {},
   "outputs": [
    {
     "name": "stdout",
     "output_type": "stream",
     "text": [
      "            dataset shape: (1507, 224, 224, 3)\n",
      "             target shape: (1507, 1)\n",
      "target classes and counts: {0: 166, 1: 166, 2: 166, 3: 137, 4: 146, 5: 137, 6: 130, 7: 133, 8: 161, 9: 165}\n"
     ]
    }
   ],
   "source": [
    "x_train, y_train = get_species_dataset(\"train\", num_class)"
   ]
  },
  {
   "cell_type": "code",
   "execution_count": 6,
   "metadata": {},
   "outputs": [
    {
     "name": "stdout",
     "output_type": "stream",
     "text": [
      "            dataset shape: (50, 224, 224, 3)\n",
      "             target shape: (50, 1)\n",
      "target classes and counts: {0: 5, 1: 5, 2: 5, 3: 5, 4: 5, 5: 5, 6: 5, 7: 5, 8: 5, 9: 5}\n"
     ]
    }
   ],
   "source": [
    "x_test, y_test = get_species_dataset(\"test\", num_class)\n",
    "# x_val, y_val = get_species_dataset(\"valid\", num_class)\n"
   ]
  },
  {
   "cell_type": "code",
   "execution_count": 7,
   "metadata": {},
   "outputs": [],
   "source": [
    "import tensorflow as tf"
   ]
  },
  {
   "cell_type": "code",
   "execution_count": 8,
   "metadata": {},
   "outputs": [],
   "source": [
    "from tensorflow.keras import layers\n",
    "\n",
    "def create_cnn_model(inShape, convNum, hNum, hAct, outNum, loss):\n",
    "    \"\"\"\n",
    "    :param inShape: kształt wejścia, h*w*c\n",
    "    :param convNum: lista ilości featerów w warstwach konwolucyjnych\n",
    "    :param hNum: lista ilości neuronów w poszczególnych warstwach ukrytych\n",
    "    :param hAct: rodzaj aktywacji w warstwach ukrytych, str\n",
    "    :param outNum: ilość\n",
    "    :param loss: funkcja kosztu\n",
    "    \"\"\"\n",
    "    # pusty model\n",
    "    model = tf.keras.Sequential()\n",
    "    # warstwa wejściowa\n",
    "    model.add(layers.InputLayer(input_shape=(inShape)))\n",
    "    # warstwy konwolucyjne\n",
    "    for idx, oneConvNum in enumerate(convNum):\n",
    "        # dodajemy kolejną warstwę konwolucyjną\n",
    "        # zmienia nam ilość cech(kanałów) na oneConvNum\n",
    "        model.add(layers.Conv2D(\n",
    "                                filters=oneConvNum,\n",
    "                                kernel_size=3,\n",
    "                                strides=1,\n",
    "                                padding=\"SAME\",\n",
    "                                activation=\"relu\"\n",
    "                                )\n",
    "                            )\n",
    "        # doajemy następującego po convie maxpool'a\n",
    "        # zmniejsza nam wymiarowość HxW o połowę\n",
    "        model.add(layers.MaxPool2D(\n",
    "                                    pool_size=(2, 2),\n",
    "                                    strides=2,\n",
    "                                    padding=\"SAME\"\n",
    "                                    )\n",
    "                                )\n",
    "    # spłaszczamy po konwolucjach, przygotowanie pod relu\n",
    "    model.add(layers.Flatten())\n",
    "    # warstwy fully connected\n",
    "    for idx, oneHidNum in enumerate(hNum):\n",
    "        # dodajemy warstwę\n",
    "        model.add(layers.Dense(oneHidNum, activation=hAct))\n",
    "    # warstwa wyjściowa\n",
    "    model.add(layers.Dense(outNum))\n",
    "    # warstwa softmax, dystrybucja prawdopodobieństwa\n",
    "    model.add(layers.Softmax())\n",
    "    print(model.summary())\n",
    "    \n",
    "    opt = tf.keras.optimizers.Adam()\n",
    "    \n",
    "    model.compile(\n",
    "        optimizer=opt,\n",
    "        loss=loss,\n",
    "        metrics=[\"accuracy\"]\n",
    "    )\n",
    "    \n",
    "    return model"
   ]
  },
  {
   "cell_type": "code",
   "execution_count": 9,
   "metadata": {},
   "outputs": [
    {
     "name": "stdout",
     "output_type": "stream",
     "text": [
      "Model: \"sequential\"\n",
      "_________________________________________________________________\n",
      " Layer (type)                Output Shape              Param #   \n",
      "=================================================================\n",
      " conv2d (Conv2D)             (None, 224, 224, 8)       224       \n",
      "                                                                 \n",
      " max_pooling2d (MaxPooling2D  (None, 112, 112, 8)      0         \n",
      " )                                                               \n",
      "                                                                 \n",
      " conv2d_1 (Conv2D)           (None, 112, 112, 16)      1168      \n",
      "                                                                 \n",
      " max_pooling2d_1 (MaxPooling  (None, 56, 56, 16)       0         \n",
      " 2D)                                                             \n",
      "                                                                 \n",
      " conv2d_2 (Conv2D)           (None, 56, 56, 24)        3480      \n",
      "                                                                 \n",
      " max_pooling2d_2 (MaxPooling  (None, 28, 28, 24)       0         \n",
      " 2D)                                                             \n",
      "                                                                 \n",
      " conv2d_3 (Conv2D)           (None, 28, 28, 32)        6944      \n",
      "                                                                 \n",
      " max_pooling2d_3 (MaxPooling  (None, 14, 14, 32)       0         \n",
      " 2D)                                                             \n",
      "                                                                 \n",
      " conv2d_4 (Conv2D)           (None, 14, 14, 40)        11560     \n",
      "                                                                 \n",
      " max_pooling2d_4 (MaxPooling  (None, 7, 7, 40)         0         \n",
      " 2D)                                                             \n",
      "                                                                 \n",
      " flatten (Flatten)           (None, 1960)              0         \n",
      "                                                                 \n",
      " dense (Dense)               (None, 50)                98050     \n",
      "                                                                 \n",
      " dense_1 (Dense)             (None, 10)                510       \n",
      "                                                                 \n",
      " softmax (Softmax)           (None, 10)                0         \n",
      "                                                                 \n",
      "=================================================================\n",
      "Total params: 121,936\n",
      "Trainable params: 121,936\n",
      "Non-trainable params: 0\n",
      "_________________________________________________________________\n",
      "None\n"
     ]
    }
   ],
   "source": [
    "our_cnn = create_cnn_model(\n",
    "    inShape=(224, 224, 3),\n",
    "    convNum=[8,16,24,32,40],\n",
    "    hNum=[50],\n",
    "    hAct='relu',\n",
    "    outNum=num_class,\n",
    "    loss=tf.keras.losses.SparseCategoricalCrossentropy()\n",
    ")"
   ]
  },
  {
   "cell_type": "code",
   "execution_count": 10,
   "metadata": {},
   "outputs": [],
   "source": [
    "callback = tf.keras.callbacks.EarlyStopping(monitor='val_loss', mode='min', patience=5)"
   ]
  },
  {
   "cell_type": "code",
   "execution_count": 11,
   "metadata": {},
   "outputs": [
    {
     "name": "stdout",
     "output_type": "stream",
     "text": [
      "Epoch 1/100\n",
      "2/2 [==============================] - 19s 6s/step - loss: 14.6498 - accuracy: 0.0995 - val_loss: 14.5245 - val_accuracy: 0.1000\n",
      "Epoch 2/100\n",
      "2/2 [==============================] - 17s 5s/step - loss: 12.7176 - accuracy: 0.0883 - val_loss: 5.8721 - val_accuracy: 0.0800\n",
      "Epoch 3/100\n",
      "2/2 [==============================] - 16s 5s/step - loss: 5.6960 - accuracy: 0.0896 - val_loss: 4.2731 - val_accuracy: 0.0400\n",
      "Epoch 4/100\n",
      "2/2 [==============================] - 16s 5s/step - loss: 3.9964 - accuracy: 0.1354 - val_loss: 3.1122 - val_accuracy: 0.1200\n",
      "Epoch 5/100\n",
      "2/2 [==============================] - 16s 6s/step - loss: 2.9702 - accuracy: 0.1208 - val_loss: 2.6311 - val_accuracy: 0.0800\n",
      "Epoch 6/100\n",
      "2/2 [==============================] - 16s 5s/step - loss: 2.5460 - accuracy: 0.1221 - val_loss: 2.4301 - val_accuracy: 0.1000\n",
      "Epoch 7/100\n",
      "2/2 [==============================] - 17s 5s/step - loss: 2.3713 - accuracy: 0.1466 - val_loss: 2.3387 - val_accuracy: 0.1200\n",
      "Epoch 8/100\n",
      "2/2 [==============================] - 17s 5s/step - loss: 2.2977 - accuracy: 0.1433 - val_loss: 2.2861 - val_accuracy: 0.1800\n",
      "Epoch 9/100\n",
      "2/2 [==============================] - 17s 6s/step - loss: 2.2624 - accuracy: 0.1566 - val_loss: 2.2534 - val_accuracy: 0.2400\n",
      "Epoch 10/100\n",
      "2/2 [==============================] - 17s 6s/step - loss: 2.2418 - accuracy: 0.1712 - val_loss: 2.2409 - val_accuracy: 0.2200\n",
      "Epoch 11/100\n",
      "2/2 [==============================] - 17s 5s/step - loss: 2.2235 - accuracy: 0.1904 - val_loss: 2.2338 - val_accuracy: 0.1600\n",
      "Epoch 12/100\n",
      "2/2 [==============================] - 17s 6s/step - loss: 2.1958 - accuracy: 0.2064 - val_loss: 2.2040 - val_accuracy: 0.2200\n",
      "Epoch 13/100\n",
      "2/2 [==============================] - 17s 6s/step - loss: 2.1560 - accuracy: 0.1984 - val_loss: 2.1531 - val_accuracy: 0.3400\n",
      "Epoch 14/100\n",
      "2/2 [==============================] - 17s 6s/step - loss: 2.1084 - accuracy: 0.2223 - val_loss: 2.0843 - val_accuracy: 0.3000\n",
      "Epoch 15/100\n",
      "2/2 [==============================] - 17s 5s/step - loss: 2.0586 - accuracy: 0.2429 - val_loss: 1.9936 - val_accuracy: 0.3600\n",
      "Epoch 16/100\n",
      "2/2 [==============================] - 17s 6s/step - loss: 2.0002 - accuracy: 0.2873 - val_loss: 1.9081 - val_accuracy: 0.3800\n",
      "Epoch 17/100\n",
      "2/2 [==============================] - 17s 5s/step - loss: 1.9400 - accuracy: 0.3212 - val_loss: 1.8274 - val_accuracy: 0.3400\n",
      "Epoch 18/100\n",
      "2/2 [==============================] - 17s 5s/step - loss: 1.8750 - accuracy: 0.3318 - val_loss: 1.7433 - val_accuracy: 0.4400\n",
      "Epoch 19/100\n",
      "2/2 [==============================] - 17s 6s/step - loss: 1.8062 - accuracy: 0.3650 - val_loss: 1.6627 - val_accuracy: 0.3400\n",
      "Epoch 20/100\n",
      "2/2 [==============================] - 17s 6s/step - loss: 1.7273 - accuracy: 0.3796 - val_loss: 1.5768 - val_accuracy: 0.3600\n",
      "Epoch 21/100\n",
      "2/2 [==============================] - 17s 6s/step - loss: 1.6466 - accuracy: 0.4127 - val_loss: 1.5158 - val_accuracy: 0.4600\n",
      "Epoch 22/100\n",
      "2/2 [==============================] - 17s 6s/step - loss: 1.5645 - accuracy: 0.4413 - val_loss: 1.4363 - val_accuracy: 0.3600\n",
      "Epoch 23/100\n",
      "2/2 [==============================] - 17s 6s/step - loss: 1.4851 - accuracy: 0.4758 - val_loss: 1.3492 - val_accuracy: 0.4200\n",
      "Epoch 24/100\n",
      "2/2 [==============================] - 17s 5s/step - loss: 1.4131 - accuracy: 0.4917 - val_loss: 1.2968 - val_accuracy: 0.4800\n",
      "Epoch 25/100\n",
      "2/2 [==============================] - 17s 5s/step - loss: 1.3279 - accuracy: 0.5249 - val_loss: 1.1984 - val_accuracy: 0.5000\n",
      "Epoch 26/100\n",
      "2/2 [==============================] - 17s 5s/step - loss: 1.2546 - accuracy: 0.5415 - val_loss: 1.2071 - val_accuracy: 0.4800\n",
      "Epoch 27/100\n",
      "2/2 [==============================] - 17s 5s/step - loss: 1.1871 - accuracy: 0.5707 - val_loss: 1.0797 - val_accuracy: 0.5200\n",
      "Epoch 28/100\n",
      "2/2 [==============================] - 17s 6s/step - loss: 1.1305 - accuracy: 0.5846 - val_loss: 1.0981 - val_accuracy: 0.5400\n",
      "Epoch 29/100\n",
      "2/2 [==============================] - 17s 5s/step - loss: 1.0649 - accuracy: 0.6231 - val_loss: 1.0040 - val_accuracy: 0.5600\n",
      "Epoch 30/100\n",
      "2/2 [==============================] - 17s 6s/step - loss: 1.0028 - accuracy: 0.6384 - val_loss: 1.0537 - val_accuracy: 0.5600\n",
      "Epoch 31/100\n",
      "2/2 [==============================] - 17s 5s/step - loss: 0.9608 - accuracy: 0.6722 - val_loss: 0.9498 - val_accuracy: 0.6000\n",
      "Epoch 32/100\n",
      "2/2 [==============================] - 17s 6s/step - loss: 0.9080 - accuracy: 0.6841 - val_loss: 0.9641 - val_accuracy: 0.5800\n",
      "Epoch 33/100\n",
      "2/2 [==============================] - 17s 5s/step - loss: 0.8516 - accuracy: 0.7034 - val_loss: 0.9061 - val_accuracy: 0.6200\n",
      "Epoch 34/100\n",
      "2/2 [==============================] - 17s 5s/step - loss: 0.8034 - accuracy: 0.7246 - val_loss: 0.8531 - val_accuracy: 0.6400\n",
      "Epoch 35/100\n",
      "2/2 [==============================] - 17s 5s/step - loss: 0.7529 - accuracy: 0.7392 - val_loss: 0.8894 - val_accuracy: 0.6000\n",
      "Epoch 36/100\n",
      "2/2 [==============================] - 17s 6s/step - loss: 0.7144 - accuracy: 0.7485 - val_loss: 0.8316 - val_accuracy: 0.6800\n",
      "Epoch 37/100\n",
      "2/2 [==============================] - 17s 5s/step - loss: 0.6834 - accuracy: 0.7624 - val_loss: 0.8745 - val_accuracy: 0.6400\n",
      "Epoch 38/100\n",
      "2/2 [==============================] - 17s 6s/step - loss: 0.6498 - accuracy: 0.7823 - val_loss: 0.7903 - val_accuracy: 0.6800\n",
      "Epoch 39/100\n",
      "2/2 [==============================] - 17s 5s/step - loss: 0.6133 - accuracy: 0.7963 - val_loss: 0.8247 - val_accuracy: 0.6600\n",
      "Epoch 40/100\n",
      "2/2 [==============================] - 17s 6s/step - loss: 0.5778 - accuracy: 0.8175 - val_loss: 0.7493 - val_accuracy: 0.7000\n",
      "Epoch 41/100\n",
      "2/2 [==============================] - 17s 6s/step - loss: 0.5450 - accuracy: 0.8261 - val_loss: 0.8259 - val_accuracy: 0.6400\n",
      "Epoch 42/100\n",
      "2/2 [==============================] - 17s 5s/step - loss: 0.5174 - accuracy: 0.8381 - val_loss: 0.8100 - val_accuracy: 0.7200\n",
      "Epoch 43/100\n",
      "2/2 [==============================] - 16s 5s/step - loss: 0.4887 - accuracy: 0.8480 - val_loss: 0.7519 - val_accuracy: 0.7400\n",
      "Epoch 44/100\n",
      "2/2 [==============================] - 16s 5s/step - loss: 0.4640 - accuracy: 0.8593 - val_loss: 0.8024 - val_accuracy: 0.6800\n",
      "Epoch 45/100\n",
      "2/2 [==============================] - 16s 5s/step - loss: 0.4351 - accuracy: 0.8699 - val_loss: 0.7670 - val_accuracy: 0.7200\n"
     ]
    }
   ],
   "source": [
    "history = our_cnn.fit(\n",
    "    x=x_train,\n",
    "    y=y_train,\n",
    "    epochs=100,\n",
    "    batch_size=1024,\n",
    "    validation_data=(x_test,  y_test),\n",
    "    callbacks=[callback]\n",
    ")"
   ]
  },
  {
   "cell_type": "code",
   "execution_count": 12,
   "metadata": {},
   "outputs": [
    {
     "data": {
      "text/plain": [
       "dict_keys(['loss', 'accuracy', 'val_loss', 'val_accuracy'])"
      ]
     },
     "execution_count": 12,
     "metadata": {},
     "output_type": "execute_result"
    }
   ],
   "source": [
    "history.history.keys()"
   ]
  },
  {
   "cell_type": "code",
   "execution_count": 13,
   "metadata": {},
   "outputs": [
    {
     "data": {
      "image/png": "[encoded data removed]",
      "text/plain": [
       "<Figure size 432x288 with 1 Axes>"
      ]
     },
     "metadata": {
      "needs_background": "light"
     },
     "output_type": "display_data"
    }
   ],
   "source": [
    "plt.plot(history.history[\"loss\"])\n",
    "plt.plot(history.history[\"val_loss\"])\n",
    "plt.legend([\"loss\", \"val_loss\"])\n",
    "plt.show()"
   ]
  },
  {
   "cell_type": "code",
   "execution_count": 14,
   "metadata": {},
   "outputs": [
    {
     "data": {
      "image/png": "[encoded data removed]",
      "text/plain": [
       "<Figure size 432x288 with 1 Axes>"
      ]
     },
     "metadata": {
      "needs_background": "light"
     },
     "output_type": "display_data"
    }
   ],
   "source": [
    "plt.plot(history.history[\"accuracy\"])\n",
    "plt.plot(history.history[\"val_accuracy\"])\n",
    "plt.legend([\"accuracy\", \"val_accuracy\"])\n",
    "plt.show()"
   ]
  },
  {
   "cell_type": "code",
   "execution_count": 15,
   "metadata": {},
   "outputs": [],
   "source": [
    "our_cnn.save_weights(\"weights/model_for_fun\")\n",
    "our_cnn.save(\"model/simple.h5\")"
   ]
  },
  {
   "cell_type": "markdown",
   "metadata": {},
   "source": [
    "Loading of the model weights directly into the model"
   ]
  },
  {
   "cell_type": "code",
   "execution_count": 16,
   "metadata": {},
   "outputs": [],
   "source": [
    "from sklearn.metrics import classification_report, confusion_matrix"
   ]
  },
  {
   "cell_type": "code",
   "execution_count": 17,
   "metadata": {},
   "outputs": [
    {
     "name": "stdout",
     "output_type": "stream",
     "text": [
      "Model: \"sequential_1\"\n",
      "_________________________________________________________________\n",
      " Layer (type)                Output Shape              Param #   \n",
      "=================================================================\n",
      " conv2d_5 (Conv2D)           (None, 224, 224, 8)       224       \n",
      "                                                                 \n",
      " max_pooling2d_5 (MaxPooling  (None, 112, 112, 8)      0         \n",
      " 2D)                                                             \n",
      "                                                                 \n",
      " conv2d_6 (Conv2D)           (None, 112, 112, 16)      1168      \n",
      "                                                                 \n",
      " max_pooling2d_6 (MaxPooling  (None, 56, 56, 16)       0         \n",
      " 2D)                                                             \n",
      "                                                                 \n",
      " conv2d_7 (Conv2D)           (None, 56, 56, 24)        3480      \n",
      "                                                                 \n",
      " max_pooling2d_7 (MaxPooling  (None, 28, 28, 24)       0         \n",
      " 2D)                                                             \n",
      "                                                                 \n",
      " conv2d_8 (Conv2D)           (None, 28, 28, 32)        6944      \n",
      "                                                                 \n",
      " max_pooling2d_8 (MaxPooling  (None, 14, 14, 32)       0         \n",
      " 2D)                                                             \n",
      "                                                                 \n",
      " conv2d_9 (Conv2D)           (None, 14, 14, 40)        11560     \n",
      "                                                                 \n",
      " max_pooling2d_9 (MaxPooling  (None, 7, 7, 40)         0         \n",
      " 2D)                                                             \n",
      "                                                                 \n",
      " flatten_1 (Flatten)         (None, 1960)              0         \n",
      "                                                                 \n",
      " dense_2 (Dense)             (None, 50)                98050     \n",
      "                                                                 \n",
      " dense_3 (Dense)             (None, 10)                510       \n",
      "                                                                 \n",
      " softmax_1 (Softmax)         (None, 10)                0         \n",
      "                                                                 \n",
      "=================================================================\n",
      "Total params: 121,936\n",
      "Trainable params: 121,936\n",
      "Non-trainable params: 0\n",
      "_________________________________________________________________\n",
      "None\n"
     ]
    }
   ],
   "source": [
    "model_loaded = create_cnn_model(\n",
    "    inShape=(224, 224, 3),\n",
    "    convNum=[8,16,24,32,40],\n",
    "    hNum=[50],\n",
    "    hAct='relu',\n",
    "    outNum=10,\n",
    "    loss=tf.keras.losses.SparseCategoricalCrossentropy()\n",
    ")"
   ]
  },
  {
   "cell_type": "code",
   "execution_count": 18,
   "metadata": {},
   "outputs": [
    {
     "data": {
      "text/plain": [
       "<tensorflow.python.training.tracking.util.CheckpointLoadStatus at 0x27cc7d9b040>"
      ]
     },
     "execution_count": 18,
     "metadata": {},
     "output_type": "execute_result"
    }
   ],
   "source": [
    "# wczytuje parametry do zainicjalizowanego modelu\n",
    "model_loaded.load_weights(\"weights/model_for_fun\")"
   ]
  },
  {
   "cell_type": "code",
   "execution_count": 19,
   "metadata": {},
   "outputs": [
    {
     "name": "stdout",
     "output_type": "stream",
     "text": [
      "              precision    recall  f1-score   support\n",
      "\n",
      "           0       0.50      0.40      0.44         5\n",
      "           1       0.44      0.80      0.57         5\n",
      "           2       1.00      0.80      0.89         5\n",
      "           3       0.83      1.00      0.91         5\n",
      "           4       0.83      1.00      0.91         5\n",
      "           5       0.75      0.60      0.67         5\n",
      "           6       0.80      0.80      0.80         5\n",
      "           7       1.00      0.40      0.57         5\n",
      "           8       0.60      0.60      0.60         5\n",
      "           9       0.80      0.80      0.80         5\n",
      "\n",
      "    accuracy                           0.72        50\n",
      "   macro avg       0.76      0.72      0.72        50\n",
      "weighted avg       0.76      0.72      0.72        50\n",
      "\n"
     ]
    }
   ],
   "source": [
    "# tu wrzucasz dane do predict które chcesz sprawdzić\n",
    "y_pred = model_loaded.predict(x_test)\n",
    "print(classification_report(y_test, y_pred.argmax(axis=1)))"
   ]
  },
  {
   "cell_type": "markdown",
   "metadata": {},
   "source": [
    "Loading whole model (model with the weights)"
   ]
  },
  {
   "cell_type": "code",
   "execution_count": 20,
   "metadata": {},
   "outputs": [],
   "source": [
    "def read_images_from_directory(directory):\n",
    "    test_imgs = glob2.glob(os.path.join(directory)+\"/*\")\n",
    "    zero_img = cv2.cvtColor(cv2.imread(test_imgs[0]),cv2.COLOR_BGR2RGB).reshape(1,224,224,3)\n",
    "    filenames = [test_imgs[0]]\n",
    "    dataset = zero_img\n",
    "    \n",
    "    for img in test_imgs[1:]:\n",
    "            tmp_img = cv2.cvtColor(cv2.imread(img),cv2.COLOR_BGR2RGB).reshape(1,224,224,3)\n",
    "            dataset = np.concatenate((dataset, tmp_img), axis=0)\n",
    "            filenames.append(img)\n",
    "\n",
    "    return dataset, filenames"
   ]
  },
  {
   "cell_type": "code",
   "execution_count": 21,
   "metadata": {},
   "outputs": [],
   "source": [
    "model_loaded_h5 = tf.keras.models.load_model(\"model/simple.h5\")"
   ]
  },
  {
   "cell_type": "code",
   "execution_count": 24,
   "metadata": {},
   "outputs": [
    {
     "name": "stdout",
     "output_type": "stream",
     "text": [
      "Picture images_to_test\\1.jpg is AFRICAN FIREFINCH with 0.53% confidence\n",
      "Picture images_to_test\\2.jpg is AFRICAN CROWNED CRANE with 0.76% confidence\n",
      "Picture images_to_test\\3.jpg is ALEXANDRINE PARAKEET with 0.99% confidence\n",
      "Picture images_to_test\\4.jpg is AFRICAN CROWNED CRANE with 0.71% confidence\n",
      "Picture images_to_test\\5.jpg is ALEXANDRINE PARAKEET with 0.97% confidence\n"
     ]
    }
   ],
   "source": [
    "images_to_predict, filenames = read_images_from_directory('images_to_test')\n",
    "y_pred = model_loaded_h5.predict(images_to_predict)\n",
    "for index, pred in enumerate(y_pred):\n",
    "    print(f'Picture {filenames[index]} is {species[pred.argmax()]} with {pred.max():.2f}% confidence')"
   ]
  }
 ],
 "metadata": {
  "kernelspec": {
   "display_name": "Python 3.8.11 ('base')",
   "language": "python",
   "name": "python3"
  },
  "language_info": {
   "codemirror_mode": {
    "name": "ipython",
    "version": 3
   },
   "file_extension": ".py",
   "mimetype": "text/x-python",
   "name": "python",
   "nbconvert_exporter": "python",
   "pygments_lexer": "ipython3",
   "version": "3.8.11"
  },
  "orig_nbformat": 4,
  "vscode": {
   "interpreter": {
    "hash": "84e7ca4d3cda02558b8488111a750648cb6a4b3668a23f44e278fc8092a466ab"
   }
  }
 },
 "nbformat": 4,
 "nbformat_minor": 2
}
